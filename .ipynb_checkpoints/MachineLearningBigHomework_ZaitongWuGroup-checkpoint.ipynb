{
 "cells": [
  {
   "cell_type": "markdown",
   "id": "fd5e7120",
   "metadata": {},
   "source": [
    "# <div style=\"text-align: center; color: black;\"> 吴在彤小组大作业 </div>"
   ]
  },
  {
   "cell_type": "markdown",
   "id": "d7fcfe24",
   "metadata": {},
   "source": [
    "说明：我们选取了kaggle平台上有关蘑菇是否有毒的数据集，对该数据集进行分类并可视化。<br>\n",
    "数据集网址：https://www.kaggle.com/datasets/prishasawhney/mushroom-dataset/data"
   ]
  },
  {
   "cell_type": "markdown",
   "id": "6bad2153",
   "metadata": {},
   "source": [
    "## 第一部分：数据集处理"
   ]
  },
  {
   "cell_type": "markdown",
   "id": "fe392023",
   "metadata": {},
   "source": [
    "### 1、读取数据集"
   ]
  },
  {
   "cell_type": "code",
   "execution_count": 19,
   "id": "b0894052",
   "metadata": {},
   "outputs": [],
   "source": [
    "import pandas as pd\n",
    "import numpy as np\n",
    "import matplotlib.pyplot as plt\n",
    "import matplotlib\n",
    "import seaborn as sns\n",
    "\n",
    "# 设置matplotlib字体，让matplotlib可以显示中文\n",
    "matplotlib.rcParams['font.sans-serif'] = ['SimHei']"
   ]
  },
  {
   "cell_type": "markdown",
   "id": "53c95769",
   "metadata": {},
   "source": [
    "通过pandas读入数据集"
   ]
  },
  {
   "cell_type": "code",
   "execution_count": 20,
   "id": "3d4fa7d6",
   "metadata": {},
   "outputs": [
    {
     "data": {
      "text/html": [
       "<div>\n",
       "<style scoped>\n",
       "    .dataframe tbody tr th:only-of-type {\n",
       "        vertical-align: middle;\n",
       "    }\n",
       "\n",
       "    .dataframe tbody tr th {\n",
       "        vertical-align: top;\n",
       "    }\n",
       "\n",
       "    .dataframe thead th {\n",
       "        text-align: right;\n",
       "    }\n",
       "</style>\n",
       "<table border=\"1\" class=\"dataframe\">\n",
       "  <thead>\n",
       "    <tr style=\"text-align: right;\">\n",
       "      <th></th>\n",
       "      <th>cap-diameter</th>\n",
       "      <th>cap-shape</th>\n",
       "      <th>gill-attachment</th>\n",
       "      <th>gill-color</th>\n",
       "      <th>stem-height</th>\n",
       "      <th>stem-width</th>\n",
       "      <th>stem-color</th>\n",
       "      <th>season</th>\n",
       "      <th>class</th>\n",
       "    </tr>\n",
       "  </thead>\n",
       "  <tbody>\n",
       "    <tr>\n",
       "      <th>0</th>\n",
       "      <td>1372</td>\n",
       "      <td>2</td>\n",
       "      <td>2</td>\n",
       "      <td>10</td>\n",
       "      <td>3.807467</td>\n",
       "      <td>1545</td>\n",
       "      <td>11</td>\n",
       "      <td>1.804273</td>\n",
       "      <td>1</td>\n",
       "    </tr>\n",
       "    <tr>\n",
       "      <th>1</th>\n",
       "      <td>1461</td>\n",
       "      <td>2</td>\n",
       "      <td>2</td>\n",
       "      <td>10</td>\n",
       "      <td>3.807467</td>\n",
       "      <td>1557</td>\n",
       "      <td>11</td>\n",
       "      <td>1.804273</td>\n",
       "      <td>1</td>\n",
       "    </tr>\n",
       "    <tr>\n",
       "      <th>2</th>\n",
       "      <td>1371</td>\n",
       "      <td>2</td>\n",
       "      <td>2</td>\n",
       "      <td>10</td>\n",
       "      <td>3.612496</td>\n",
       "      <td>1566</td>\n",
       "      <td>11</td>\n",
       "      <td>1.804273</td>\n",
       "      <td>1</td>\n",
       "    </tr>\n",
       "    <tr>\n",
       "      <th>3</th>\n",
       "      <td>1261</td>\n",
       "      <td>6</td>\n",
       "      <td>2</td>\n",
       "      <td>10</td>\n",
       "      <td>3.787572</td>\n",
       "      <td>1566</td>\n",
       "      <td>11</td>\n",
       "      <td>1.804273</td>\n",
       "      <td>1</td>\n",
       "    </tr>\n",
       "    <tr>\n",
       "      <th>4</th>\n",
       "      <td>1305</td>\n",
       "      <td>6</td>\n",
       "      <td>2</td>\n",
       "      <td>10</td>\n",
       "      <td>3.711971</td>\n",
       "      <td>1464</td>\n",
       "      <td>11</td>\n",
       "      <td>0.943195</td>\n",
       "      <td>1</td>\n",
       "    </tr>\n",
       "  </tbody>\n",
       "</table>\n",
       "</div>"
      ],
      "text/plain": [
       "   cap-diameter  cap-shape  gill-attachment  gill-color  stem-height  \\\n",
       "0          1372          2                2          10     3.807467   \n",
       "1          1461          2                2          10     3.807467   \n",
       "2          1371          2                2          10     3.612496   \n",
       "3          1261          6                2          10     3.787572   \n",
       "4          1305          6                2          10     3.711971   \n",
       "\n",
       "   stem-width  stem-color    season  class  \n",
       "0        1545          11  1.804273      1  \n",
       "1        1557          11  1.804273      1  \n",
       "2        1566          11  1.804273      1  \n",
       "3        1566          11  1.804273      1  \n",
       "4        1464          11  0.943195      1  "
      ]
     },
     "execution_count": 20,
     "metadata": {},
     "output_type": "execute_result"
    }
   ],
   "source": [
    "data = pd.read_csv(r'./mushroom_cleaned.csv')\n",
    "df = pd.DataFrame(data)\n",
    "df.head()"
   ]
  },
  {
   "cell_type": "markdown",
   "id": "e6b84721",
   "metadata": {},
   "source": [
    "数据集正确读入"
   ]
  },
  {
   "cell_type": "markdown",
   "id": "07a9304f",
   "metadata": {},
   "source": [
    "### 2、对数据集进行分析"
   ]
  },
  {
   "cell_type": "code",
   "execution_count": 21,
   "id": "70b4f0e3",
   "metadata": {},
   "outputs": [
    {
     "name": "stdout",
     "output_type": "stream",
     "text": [
      "<class 'pandas.core.frame.DataFrame'>\n",
      "RangeIndex: 54035 entries, 0 to 54034\n",
      "Data columns (total 9 columns):\n",
      " #   Column           Non-Null Count  Dtype  \n",
      "---  ------           --------------  -----  \n",
      " 0   cap-diameter     54035 non-null  int64  \n",
      " 1   cap-shape        54035 non-null  int64  \n",
      " 2   gill-attachment  54035 non-null  int64  \n",
      " 3   gill-color       54035 non-null  int64  \n",
      " 4   stem-height      54035 non-null  float64\n",
      " 5   stem-width       54035 non-null  int64  \n",
      " 6   stem-color       54035 non-null  int64  \n",
      " 7   season           54035 non-null  float64\n",
      " 8   class            54035 non-null  int64  \n",
      "dtypes: float64(2), int64(7)\n",
      "memory usage: 3.7 MB\n"
     ]
    }
   ],
   "source": [
    "df.info()"
   ]
  },
  {
   "cell_type": "markdown",
   "id": "31656816",
   "metadata": {},
   "source": [
    "通过df.info()输出可知，该数据共有54035行、9列数据。同时，每一列的非空数据量都为54035，等于总行数，表明这个数据集没有空缺数据。"
   ]
  },
  {
   "cell_type": "markdown",
   "id": "45aa6026",
   "metadata": {},
   "source": [
    "![图1 kaggle网站上作者对数据集的介绍](images/img1.png)\n",
    "通过网站中数据集作者对数据集的介绍可知，“class”表示蘑菇是否可食用。"
   ]
  },
  {
   "cell_type": "markdown",
   "id": "0b0f2dc6",
   "metadata": {},
   "source": [
    "下面对可食用和不可食用的蘑菇数据量进行统计分析，看看二者数据量是否相差过大，如果相差过大则需要对过多一方的数据进行适当删除，避免因数据不平衡导致模型预测时有偏向。"
   ]
  },
  {
   "cell_type": "code",
   "execution_count": 22,
   "id": "3e3f5d0e",
   "metadata": {},
   "outputs": [
    {
     "data": {
      "text/plain": [
       "<Axes: xlabel='class', ylabel='count'>"
      ]
     },
     "execution_count": 22,
     "metadata": {},
     "output_type": "execute_result"
    },
    {
     "data": {
      "image/png": "[encoded data removed]",
      "text/plain": [
       "<Figure size 640x480 with 1 Axes>"
      ]
     },
     "metadata": {},
     "output_type": "display_data"
    }
   ],
   "source": [
    "sns.countplot(data=df, x='class')"
   ]
  },
  {
   "cell_type": "code",
   "execution_count": 23,
   "id": "55fe665c",
   "metadata": {},
   "outputs": [
    {
     "data": {
      "image/png": "[encoded data removed]",
      "text/plain": [
       "<Figure size 640x480 with 1 Axes>"
      ]
     },
     "metadata": {},
     "output_type": "display_data"
    }
   ],
   "source": [
    "# 计算每个类别的数量\n",
    "class_counts = df['class'].value_counts()\n",
    "\n",
    "value = [0,1]\n",
    "plt.xticks(value)\n",
    "plt.xlabel(\"值\", loc='right', color='black', fontsize=14)\n",
    "plt.ylabel(\"数量\", loc='top', color='black', fontsize=14)\n",
    "\n",
    "# 创建条形图\n",
    "plt.bar(class_counts.index, class_counts.values)\n",
    "\n",
    "# 显示图表\n",
    "plt.show()"
   ]
  },
  {
   "cell_type": "code",
   "execution_count": 29,
   "id": "c1865978",
   "metadata": {},
   "outputs": [
    {
     "data": {
      "image/png": "[encoded data removed]",
      "text/plain": [
       "<Figure size 1000x800 with 1 Axes>"
      ]
     },
     "metadata": {},
     "output_type": "display_data"
    }
   ],
   "source": [
    "fig, ax = plt.subplots(figsize=(10, 8))\n",
    "\n",
    "x = [0,1]\n",
    "y_T = df['class'].value_counts()\n",
    "y = [y_T[1],y_T[0]]\n",
    "ax.bar(x, y)\n",
    "\n",
    "ax.set_xticks(x)\n",
    "ax.set_xticklabels(x)\n",
    "\n",
    "ax.set_xlabel(\"值\", loc='right', color='black', fontsize=14)\n",
    "ax.set_ylabel(\"数量\", loc='top', color='black', fontsize=14)\n",
    "ax.set_title(\"class值的统计条形图\", fontsize=20)\n",
    "\n",
    "plt.show()"
   ]
  },
  {
   "cell_type": "markdown",
   "id": "888613e9",
   "metadata": {},
   "source": [
    "通过条形计数图可以看出，可食用蘑菇和不可食用蘑菇数据量相差不大，数据集较为平衡，不需要对数据集进行删减处理。"
   ]
  },
  {
   "cell_type": "code",
   "execution_count": null,
   "id": "91d00414",
   "metadata": {},
   "outputs": [],
   "source": []
  }
 ],
 "metadata": {
  "kernelspec": {
   "display_name": "torch201_tensorflow_Py38",
   "language": "python",
   "name": "torch201_tensorflow_py38"
  },
  "language_info": {
   "codemirror_mode": {
    "name": "ipython",
    "version": 3
   },
   "file_extension": ".py",
   "mimetype": "text/x-python",
   "name": "python",
   "nbconvert_exporter": "python",
   "pygments_lexer": "ipython3",
   "version": "3.8.19"
  }
 },
 "nbformat": 4,
 "nbformat_minor": 5
}
